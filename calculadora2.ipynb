{
  "nbformat": 4,
  "nbformat_minor": 0,
  "metadata": {
    "colab": {
      "provenance": [],
      "include_colab_link": true
    },
    "kernelspec": {
      "name": "python3",
      "display_name": "Python 3"
    },
    "language_info": {
      "name": "python"
    }
  },
  "cells": [
    {
      "cell_type": "markdown",
      "metadata": {
        "id": "view-in-github",
        "colab_type": "text"
      },
      "source": [
        "<a href=\"https://colab.research.google.com/github/wilopes/ProzEduca/blob/main/calculadora2.ipynb\" target=\"_parent\"><img src=\"https://colab.research.google.com/assets/colab-badge.svg\" alt=\"Open In Colab\"/></a>"
      ]
    },
    {
      "cell_type": "code",
      "execution_count": null,
      "metadata": {
        "id": "qF6iFG_v3Azj"
      },
      "outputs": [],
      "source": [
        "def calculadora (num1, num2, op):\n",
        "  soma = str(num1+num2)\n",
        "  subtracao = str(num1-num2)\n",
        "  multiplicacao = str(num1*num2)\n",
        "  divisao = str(num1/num2)\n",
        "  op = soma, subtracao, multiplicacao, divisao\n",
        "  return soma, subtracao, multiplicacao, divisao, op\n",
        "\n",
        "  input(num1)(\"insira um numero\")\n",
        "  input(num2)(\"insira outro numero\")\n",
        "  input(op)(\"insira o operador\")\n",
        "  resultado = calculadora(op)\n",
        "  print(resultado)"
      ]
    },
    {
      "cell_type": "code",
      "source": [
        "#Eperimente usar codigo simples sem função para entender melhor\n",
        "\n",
        "#Recebe dois números como entrada e retorna uma tupla\n",
        "num1 = int(input(\"Insira um numero: \"))\n",
        "num2 = int(input(\"Insira outro numero: \"))\n",
        "\n",
        "#Define quatro variáveis para armazenar os resultados\n",
        "soma = num1 + num2\n",
        "subtracao = num1 - num2\n",
        "multiplicacao = num1 * num2\n",
        "divisao = num1 / num2\n",
        "\n",
        "'''\n",
        "#Imprime o valor das variáveis, que é uma tupla com os resultados das operações\n",
        "print(f\"Soma: {soma}\")\n",
        "print(f\"Subtração: {subtracao}\")\n",
        "print(f\"Multiplicação: {multiplicacao}\")\n",
        "print(f\"Divisão: {divisao}\")\n",
        "'''\n",
        "#Imprime o valor da variável resultado, que é uma tupla com os resultados das operações\n",
        "resultado = (soma, subtracao, multiplicacao, divisao)\n",
        "print(f\"O resultado da operação é: {resultado}\")"
      ],
      "metadata": {
        "id": "6kSNA5RxEyHL",
        "outputId": "0dd2e108-08b8-4386-9150-1402d5003077",
        "colab": {
          "base_uri": "https://localhost:8080/"
        }
      },
      "execution_count": null,
      "outputs": [
        {
          "output_type": "stream",
          "name": "stdout",
          "text": [
            "Insira um numero: 1\n",
            "Insira outro numero: 2\n",
            "O resultado da operação é: (3, -1, 2, 0.5)\n"
          ]
        }
      ]
    },
    {
      "cell_type": "code",
      "source": [
        "'''\n",
        "O código define uma função calculadora que recebe dois números como entrada e retorna\n",
        "uma tupla com os resultados da soma, subtração, multiplicação e divisão desses números.\n",
        "O código então solicita ao usuário dois números, chama a função calculadora com esses\n",
        "números como entrada e imprime o resultado da operação.\n",
        "'''\n",
        "#Define quatro variáveis para armazenar os resultados, cria uma tupla e armazena seu valor.\n",
        "def calculadora(num1, num2):\n",
        "    soma = num1 + num2\n",
        "    subtracao = num1 - num2\n",
        "    multiplicacao = num1 * num2\n",
        "    divisao = num1 / num2\n",
        "    op = soma, subtracao, multiplicacao, divisao\n",
        "    return op\n",
        "\n",
        "#Solicita ao usuário dois números inteiros e os armazena nas variáveis num1 e num2.\n",
        "num1 = int(input(\"Insira um numero: \"))\n",
        "num2 = int(input(\"Insira outro numero: \"))\n",
        "\n",
        "#Armazena o resultado da função na variável resultado.\n",
        "resultado = calculadora(num1, num2)\n",
        "\n",
        "#Imprime o valor da variável resultado, que é uma tupla com os resultados das operações\n",
        "print(f\"O resultado da operação é: {resultado}\")"
      ],
      "metadata": {
        "colab": {
          "base_uri": "https://localhost:8080/"
        },
        "id": "cH8vJytlFZ0A",
        "outputId": "235f62de-166b-4a80-bb3e-6d95725ca860"
      },
      "execution_count": null,
      "outputs": [
        {
          "output_type": "stream",
          "name": "stdout",
          "text": [
            "Insira um numero: 1\n",
            "Insira outro numero: 2\n",
            "O resultado da operação é: (3, -1, 2, 0.5)\n"
          ]
        }
      ]
    }
  ]
}